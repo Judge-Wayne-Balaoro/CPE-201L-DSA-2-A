{
  "nbformat": 4,
  "nbformat_minor": 0,
  "metadata": {
    "colab": {
      "provenance": [],
      "authorship_tag": "ABX9TyM14DK2ICyBvTx16FkkF9n1",
      "include_colab_link": true
    },
    "kernelspec": {
      "name": "python3",
      "display_name": "Python 3"
    },
    "language_info": {
      "name": "python"
    }
  },
  "cells": [
    {
      "cell_type": "markdown",
      "metadata": {
        "id": "view-in-github",
        "colab_type": "text"
      },
      "source": [
        "<a href=\"https://colab.research.google.com/github/Judge-Wayne-Balaoro/CPE-201L-DSA-2-A/blob/main/ACT_1.ipynb\" target=\"_parent\"><img src=\"https://colab.research.google.com/assets/colab-badge.svg\" alt=\"Open In Colab\"/></a>"
      ]
    },
    {
      "cell_type": "code",
      "execution_count": 34,
      "metadata": {
        "colab": {
          "base_uri": "https://localhost:8080/"
        },
        "id": "NzC804CJyrLo",
        "outputId": "a853a55d-0672-42c3-a146-a1a413b89489"
      },
      "outputs": [
        {
          "output_type": "stream",
          "name": "stdout",
          "text": [
            "What is the diameter of the circle? Type N if not Applicable. n\n",
            "What is the radius of the circle? 2\n",
            "The area of the circle is 12.56\n"
          ]
        }
      ],
      "source": [
        "diameter = input(\"What is the diameter of the circle? Type N if not Applicable. \")\n",
        "pi = 3.14\n",
        "area_circle = pi * (r**2)\n",
        "if diameter == \"N\" or \"n\":\n",
        "  r= int(input(\"What is the radius of the circle? \"))\n",
        "  print(f\"The area of the circle is {area_circle}\")\n",
        "else:\n",
        "    diameter = int(diameter)\n",
        "    print(f\"The area of the circle is {area_circle}\")"
      ]
    },
    {
      "cell_type": "code",
      "source": [
        "d = int(input(\"What is the radius of the circle? \"))\n",
        "pi = 3.14\n",
        "area_circle = pi * (r**2)\n",
        "print(f\"The area of the circle is {area_circle}\")\n"
      ],
      "metadata": {
        "colab": {
          "base_uri": "https://localhost:8080/"
        },
        "id": "F8btYAKfzvcG",
        "outputId": "54debbee-5e74-4bbe-e513-74d01d32a203"
      },
      "execution_count": 31,
      "outputs": [
        {
          "output_type": "stream",
          "name": "stdout",
          "text": [
            "What is the radius of the circle? 2\n",
            "The area of the circle is 12.56\n"
          ]
        }
      ]
    }
  ]
}