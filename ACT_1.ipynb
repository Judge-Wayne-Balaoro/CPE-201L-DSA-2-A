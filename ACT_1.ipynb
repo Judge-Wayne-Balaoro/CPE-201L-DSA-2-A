{
  "nbformat": 4,
  "nbformat_minor": 0,
  "metadata": {
    "colab": {
      "provenance": [],
      "authorship_tag": "ABX9TyNlKSJW8V2YtIyw+P34gkT3",
      "include_colab_link": true
    },
    "kernelspec": {
      "name": "python3",
      "display_name": "Python 3"
    },
    "language_info": {
      "name": "python"
    }
  },
  "cells": [
    {
      "cell_type": "markdown",
      "metadata": {
        "id": "view-in-github",
        "colab_type": "text"
      },
      "source": [
        "<a href=\"https://colab.research.google.com/github/Judge-Wayne-Balaoro/CPE-201L-DSA-2-A/blob/main/ACT_1.ipynb\" target=\"_parent\"><img src=\"https://colab.research.google.com/assets/colab-badge.svg\" alt=\"Open In Colab\"/></a>"
      ]
    },
    {
      "cell_type": "code",
      "execution_count": 38,
      "metadata": {
        "colab": {
          "base_uri": "https://localhost:8080/"
        },
        "id": "NzC804CJyrLo",
        "outputId": "3273a8c4-b540-4c16-b82e-89ef08904aee"
      },
      "outputs": [
        {
          "output_type": "stream",
          "name": "stdout",
          "text": [
            "What is the diameter of the circle? Type N if not Applicable. 2\n",
            "The area of the circle is 12.56\n"
          ]
        }
      ],
      "source": [
        "pi = 3.14\n",
        "diameter = input(\"What is the diameter of the circle? Type N if not Applicable. \")\n",
        "if diameter == \"N\":\n",
        "    r = int(input(\"What is the radius of the circle? \"))\n",
        "else:\n",
        "    diameter = int(diameter)\n",
        "    r = diameter / 2\n",
        "\n",
        "area_circle = pi * (r**2)\n",
        "print(f\"The area of the circle is {area_circle}\")"
      ]
    },
    {
      "cell_type": "code",
      "source": [
        "d = int(input(\"What is the radius of the circle? \"))\n",
        "pi = 3.14\n",
        "area_circle = pi * (r**2)\n",
        "print(f\"The area of the circle is {area_circle}\")\n"
      ],
      "metadata": {
        "colab": {
          "base_uri": "https://localhost:8080/"
        },
        "id": "F8btYAKfzvcG",
        "outputId": "54debbee-5e74-4bbe-e513-74d01d32a203"
      },
      "execution_count": 31,
      "outputs": [
        {
          "output_type": "stream",
          "name": "stdout",
          "text": [
            "What is the radius of the circle? 2\n",
            "The area of the circle is 12.56\n"
          ]
        }
      ]
    }
  ]
}