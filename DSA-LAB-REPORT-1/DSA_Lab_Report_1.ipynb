{
  "nbformat": 4,
  "nbformat_minor": 0,
  "metadata": {
    "colab": {
      "provenance": [],
      "authorship_tag": "ABX9TyPe0QVaUtWRzEGGht8fUz4J",
      "include_colab_link": true
    },
    "kernelspec": {
      "name": "python3",
      "display_name": "Python 3"
    },
    "language_info": {
      "name": "python"
    }
  },
  "cells": [
    {
      "cell_type": "markdown",
      "metadata": {
        "id": "view-in-github",
        "colab_type": "text"
      },
      "source": [
        "<a href=\"https://colab.research.google.com/github/Judge-Wayne-Balaoro/CPE-201L-DSA-2-A/blob/main/DSA_Lab_Report_1.ipynb\" target=\"_parent\"><img src=\"https://colab.research.google.com/assets/colab-badge.svg\" alt=\"Open In Colab\"/></a>"
      ]
    },
    {
      "cell_type": "code",
      "source": [
        "class Polygons:\n",
        "    def __init__(self, name=\"Unknown\", sides=3, area=0.0):\n",
        "        \"\"\"\n",
        "        Initialize a Polygon with name, number of sides, and area.\n",
        "\n",
        "        Args:\n",
        "            name (str): Name of the polygon (default: \"Unknown\")\n",
        "            sides (int): Number of sides (default: 3)\n",
        "            area (float): Area of the polygon (default: 0.0)\n",
        "        \"\"\"\n",
        "        self.name = name\n",
        "        self.sides = sides\n",
        "        self.area = area\n",
        "\n",
        "    # Setter methods\n",
        "    def set_name(self, name):\n",
        "        \"\"\"Set the name of the polygon.\"\"\"\n",
        "        self.name = name\n",
        "\n",
        "    def set_sides(self, sides):\n",
        "        \"\"\"Set the number of sides of the polygon.\"\"\"\n",
        "        self.sides = sides\n",
        "\n",
        "    def set_area(self, area):\n",
        "        \"\"\"Set the area of the polygon.\"\"\"\n",
        "        self.area = area\n",
        "\n",
        "    # Getter methods\n",
        "    def get_name(self):\n",
        "        \"\"\"Get the name of the polygon.\"\"\"\n",
        "        return self.name\n",
        "\n",
        "    def get_sides(self):\n",
        "        \"\"\"Get the number of sides of the polygon.\"\"\"\n",
        "        return self.sides\n",
        "\n",
        "    def get_area(self):\n",
        "        \"\"\"Get the area of the polygon.\"\"\"\n",
        "        return self.area\n",
        "\n",
        "    # Optional: String representation for easy display\n",
        "    def __str__(self):\n",
        "        \"\"\"Return a string representation of the polygon.\"\"\"\n",
        "        return f\"Polygon: {self.name}, Sides: {self.sides}, Area: {self.area}\"\n",
        "\n",
        "\n",
        "# Example usage:\n",
        "if __name__ == \"__main__\":\n",
        "    # Create a polygon using default values\n",
        "    p1 = Polygons()\n",
        "    print(p1)\n",
        "\n",
        "    # Create a polygon with specific values\n",
        "    p2 = Polygons(\"Triangle\", 3, 15.5)\n",
        "    print(p2)\n",
        "\n",
        "    # Use setter methods\n",
        "    p1.set_name(\"Square\")\n",
        "    p1.set_sides(4)\n",
        "    p1.set_area(25.0)\n",
        "    print(p1)\n",
        "\n",
        "    # Use getter methods\n",
        "    print(f\"Name: {p2.get_name()}\")\n",
        "    print(f\"Sides: {p2.get_sides()}\")\n",
        "    print(f\"Area: {p2.get_area()}\")"
      ],
      "metadata": {
        "colab": {
          "base_uri": "https://localhost:8080/"
        },
        "id": "_0RuFxTbKEw2",
        "outputId": "1c0e129a-db85-4c2f-8d3a-69c08cb510eb"
      },
      "execution_count": 10,
      "outputs": [
        {
          "output_type": "stream",
          "name": "stdout",
          "text": [
            "Polygon: Unknown, Sides: 3, Area: 0.0\n",
            "Polygon: Triangle, Sides: 3, Area: 15.5\n",
            "Polygon: Square, Sides: 4, Area: 25.0\n",
            "Name: Triangle\n",
            "Sides: 3\n",
            "Area: 15.5\n"
          ]
        }
      ]
    },
    {
      "cell_type": "code",
      "source": [],
      "metadata": {
        "id": "2uycr-XmKIpL"
      },
      "execution_count": null,
      "outputs": []
    }
  ]
}
