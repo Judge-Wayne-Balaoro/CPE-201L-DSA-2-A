{
  "nbformat": 4,
  "nbformat_minor": 0,
  "metadata": {
    "colab": {
      "provenance": [],
      "authorship_tag": "ABX9TyOO/75UuPYaU8LQsWapvSql",
      "include_colab_link": true
    },
    "kernelspec": {
      "name": "python3",
      "display_name": "Python 3"
    },
    "language_info": {
      "name": "python"
    }
  },
  "cells": [
    {
      "cell_type": "markdown",
      "metadata": {
        "id": "view-in-github",
        "colab_type": "text"
      },
      "source": [
        "<a href=\"https://colab.research.google.com/github/Judge-Wayne-Balaoro/CPE-201L-DSA-2-A/blob/main/DSA-LAB-REPORT-1/DSA_Lab_Report_1.ipynb\" target=\"_parent\"><img src=\"https://colab.research.google.com/assets/colab-badge.svg\" alt=\"Open In Colab\"/></a>"
      ]
    },
    {
      "cell_type": "code",
      "source": [
        "class Polygons:\n",
        "    def __init__(self, name=\"Unknown\", sides=3, area=0.0):\n",
        "        self.name = name\n",
        "        self.sides = sides\n",
        "        self.area = area\n",
        "\n",
        "    # Setter methods\n",
        "    def set_name(self, name):\n",
        "        self.name = name\n",
        "\n",
        "    def set_sides(self, sides):\n",
        "        self.sides = sides\n",
        "\n",
        "    def set_area(self, area):\n",
        "        self.area = area\n",
        "\n",
        "    # Getter methods\n",
        "    def get_name(self):\n",
        "        return self.name\n",
        "\n",
        "    def get_sides(self):\n",
        "        return self.sides\n",
        "\n",
        "    def get_area(self):\n",
        "        return self.area\n",
        "\n",
        "    def __str__(self):\n",
        "        return f\"Polygon: {self.name}, Sides: {self.sides}, Area: {self.area}\"\n",
        "\n",
        "\n",
        "if __name__ == \"__main__\":\n",
        "    p1 = Polygons()\n",
        "    print(p1)\n",
        "\n",
        "    p2 = Polygons(\"Triangle\", 3, 15.5)\n",
        "    print(p2)\n",
        "\n",
        "    p1.set_name(\"Square\")\n",
        "    p1.set_sides(4)\n",
        "    p1.set_area(25.0)\n",
        "    print(p1)\n",
        "\n",
        "    print(f\"Name: {p2.get_name()}\")\n",
        "    print(f\"Sides: {p2.get_sides()}\")\n",
        "    print(f\"Area: {p2.get_area()}\")"
      ],
      "metadata": {
        "colab": {
          "base_uri": "https://localhost:8080/"
        },
        "id": "_0RuFxTbKEw2",
        "outputId": "1c0e129a-db85-4c2f-8d3a-69c08cb510eb"
      },
      "execution_count": null,
      "outputs": [
        {
          "output_type": "stream",
          "name": "stdout",
          "text": [
            "Polygon: Unknown, Sides: 3, Area: 0.0\n",
            "Polygon: Triangle, Sides: 3, Area: 15.5\n",
            "Polygon: Square, Sides: 4, Area: 25.0\n",
            "Name: Triangle\n",
            "Sides: 3\n",
            "Area: 15.5\n"
          ]
        }
      ]
    },
    {
      "cell_type": "code",
      "source": [],
      "metadata": {
        "id": "2uycr-XmKIpL"
      },
      "execution_count": null,
      "outputs": []
    }
  ]
}