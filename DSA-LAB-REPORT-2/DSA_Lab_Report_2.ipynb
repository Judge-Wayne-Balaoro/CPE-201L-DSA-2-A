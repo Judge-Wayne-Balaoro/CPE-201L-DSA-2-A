{
  "nbformat": 4,
  "nbformat_minor": 0,
  "metadata": {
    "colab": {
      "provenance": [],
      "authorship_tag": "ABX9TyOl2+UsBG84dBkwm/K+rJaD",
      "include_colab_link": true
    },
    "kernelspec": {
      "name": "python3",
      "display_name": "Python 3"
    },
    "language_info": {
      "name": "python"
    }
  },
  "cells": [
    {
      "cell_type": "markdown",
      "metadata": {
        "id": "view-in-github",
        "colab_type": "text"
      },
      "source": [
        "<a href=\"https://colab.research.google.com/github/Judge-Wayne-Balaoro/CPE-201L-DSA-2-A/blob/main/DSA-LAB-REPORT-2/DSA_Lab_Report_2.ipynb\" target=\"_parent\"><img src=\"https://colab.research.google.com/assets/colab-badge.svg\" alt=\"Open In Colab\"/></a>"
      ]
    },
    {
      "cell_type": "code",
      "execution_count": null,
      "metadata": {
        "colab": {
          "base_uri": "https://localhost:8080/"
        },
        "id": "Iw3S3iAhyrCs",
        "outputId": "292fd8b0-408a-442f-806a-761f31ce1803"
      },
      "outputs": [
        {
          "output_type": "stream",
          "name": "stdout",
          "text": [
            "Minimum: 1, Maximum: 9\n"
          ]
        }
      ],
      "source": [
        "def find_min_max(sequence, index=0, current_min=None, current_max=None):\n",
        "    if index == len(sequence):\n",
        "        return (current_min, current_max)\n",
        "\n",
        "    if current_min is None and current_max is None:\n",
        "        current_min = sequence[index]\n",
        "        current_max = sequence[index]\n",
        "\n",
        "    current_value = sequence[index]\n",
        "\n",
        "    if current_value < current_min:\n",
        "        new_min = current_value\n",
        "    else:\n",
        "        new_min = current_min\n",
        "\n",
        "    if current_value > current_max:\n",
        "        new_max = current_value\n",
        "    else:\n",
        "        new_max = current_max\n",
        "\n",
        "    return find_min_max(sequence, index + 1, new_min, new_max)\n",
        "\n",
        "\n",
        "sequence = [5, 2, 9, 1, 7]\n",
        "min_val, max_val = find_min_max(sequence)\n",
        "print(f\"Minimum: {min_val}, Maximum: {max_val}\")\n"
      ]
    }
  ]
}