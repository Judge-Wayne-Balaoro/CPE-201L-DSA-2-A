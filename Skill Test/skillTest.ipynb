{
  "nbformat": 4,
  "nbformat_minor": 0,
  "metadata": {
    "colab": {
      "provenance": [],
      "authorship_tag": "ABX9TyN2X9FcjDbSIbRdDmaEiqvP",
      "include_colab_link": true
    },
    "kernelspec": {
      "name": "python3",
      "display_name": "Python 3"
    },
    "language_info": {
      "name": "python"
    }
  },
  "cells": [
    {
      "cell_type": "markdown",
      "metadata": {
        "id": "view-in-github",
        "colab_type": "text"
      },
      "source": [
        "<a href=\"https://colab.research.google.com/github/Judge-Wayne-Balaoro/CPE-201L-DSA-2-A/blob/main/skillTest.ipynb\" target=\"_parent\"><img src=\"https://colab.research.google.com/assets/colab-badge.svg\" alt=\"Open In Colab\"/></a>"
      ]
    },
    {
      "cell_type": "code",
      "execution_count": null,
      "metadata": {
        "id": "wfH1zLBONUGu"
      },
      "outputs": [],
      "source": [
        "#Singly Linked List\n",
        "\n",
        "class LinkedListNode:\n",
        "    def __init__(self, name, nextNode = None):\n",
        "        self.name = name\n",
        "        self.nextNode = nextNode\n",
        "\n",
        "class LinkedList:\n",
        "    def __init__(self, head = None, tail = None):\n",
        "        self.head = head\n",
        "        self.tail = tail\n",
        "\n",
        "    def insert(self, name):\n",
        "        node  = LinkedListNode(name)\n",
        "        if self.head is None:\n",
        "            self.head = node\n",
        "            self.tail = node\n",
        "        else:\n",
        "            self.tail.nextNode = node\n",
        "            self.tail = node\n",
        "\n",
        "    def traverse(self):\n",
        "        current = self.head\n",
        "        while current is not None:\n",
        "            print(current.name, \"->\", end = \" \")\n",
        "            current = current.nextNode\n",
        "        print(None)\n",
        "\n",
        "ll = LinkedList()\n",
        "ll.insert(\"J\")\n",
        "ll.insert(\"U\")\n",
        "ll.insert(\"D\")\n",
        "ll.insert(\"G\")\n",
        "ll.insert(\"E\")\n",
        "\n",
        "ll.insert(\"W\")\n",
        "ll.insert(\"A\")\n",
        "ll.insert(\"Y\")\n",
        "ll.insert(\"N\")\n",
        "ll.insert(\"E\")\n",
        "\n",
        "ll.insert(\"B\")\n",
        "ll.insert(\"A\")\n",
        "ll.insert(\"L\")\n",
        "ll.insert(\"A\")\n",
        "ll.insert(\"O\")\n",
        "ll.insert(\"R\")\n",
        "ll.insert(\"O\")\n",
        "\n",
        "ll.traverse()\n"
      ]
    }
  ]
}
