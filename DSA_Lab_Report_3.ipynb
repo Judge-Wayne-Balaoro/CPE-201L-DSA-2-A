{
  "nbformat": 4,
  "nbformat_minor": 0,
  "metadata": {
    "colab": {
      "provenance": [],
      "authorship_tag": "ABX9TyNrPLrCDdHc9XDP8ENLoNkn",
      "include_colab_link": true
    },
    "kernelspec": {
      "name": "python3",
      "display_name": "Python 3"
    },
    "language_info": {
      "name": "python"
    }
  },
  "cells": [
    {
      "cell_type": "markdown",
      "metadata": {
        "id": "view-in-github",
        "colab_type": "text"
      },
      "source": [
        "<a href=\"https://colab.research.google.com/github/Judge-Wayne-Balaoro/CPE-201L-DSA-2-A/blob/main/DSA_Lab_Report_3.ipynb\" target=\"_parent\"><img src=\"https://colab.research.google.com/assets/colab-badge.svg\" alt=\"Open In Colab\"/></a>"
      ]
    },
    {
      "cell_type": "code",
      "execution_count": 40,
      "metadata": {
        "colab": {
          "base_uri": "https://localhost:8080/"
        },
        "id": "J-eF-OVPVGXj",
        "outputId": "b3b94f18-3136-40cb-91ce-032e038af0df"
      },
      "outputs": [
        {
          "output_type": "stream",
          "name": "stdout",
          "text": [
            "The sum of all even scores is 186.\n"
          ]
        }
      ],
      "source": [
        "test_scores = [26, 49, 98, 87, 62, 75]\n",
        "sum = 0\n",
        "\n",
        "for scores in test_scores:\n",
        "  if scores % 2 == 0:\n",
        "    sum += scores\n",
        "\n",
        "print(f\"The sum of all even scores is {sum}.\")\n"
      ]
    }
  ]
}