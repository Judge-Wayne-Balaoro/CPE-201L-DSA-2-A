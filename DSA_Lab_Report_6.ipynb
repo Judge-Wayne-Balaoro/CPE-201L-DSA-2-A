{
  "nbformat": 4,
  "nbformat_minor": 0,
  "metadata": {
    "colab": {
      "provenance": [],
      "authorship_tag": "ABX9TyNpSsDORScYNSboA/sxfRV7",
      "include_colab_link": true
    },
    "kernelspec": {
      "name": "python3",
      "display_name": "Python 3"
    },
    "language_info": {
      "name": "python"
    }
  },
  "cells": [
    {
      "cell_type": "markdown",
      "metadata": {
        "id": "view-in-github",
        "colab_type": "text"
      },
      "source": [
        "<a href=\"https://colab.research.google.com/github/Judge-Wayne-Balaoro/CPE-201L-DSA-2-A/blob/main/DSA_Lab_Report_6.ipynb\" target=\"_parent\"><img src=\"https://colab.research.google.com/assets/colab-badge.svg\" alt=\"Open In Colab\"/></a>"
      ]
    },
    {
      "cell_type": "markdown",
      "source": [
        "Write a Python program to create a singly linked list of prime numbers less than 20. By iterating through the list, display all the prime numbers, the head, and the tail of the list."
      ],
      "metadata": {
        "id": "lBa6umolNAb3"
      }
    },
    {
      "cell_type": "code",
      "source": [
        "class LinkedListNode:\n",
        "  def __init__(self, prime_num, nextNode = None):\n",
        "    self.prime_num = prime_num\n",
        "    self.nextNode = nextNode\n",
        "\n",
        "class LinkedList:\n",
        "  def __init__(self, head = None, tail = None):\n",
        "    self.head = head\n",
        "    self.tail = tail\n",
        "\n",
        "  def insert(self, prime_num):\n",
        "    node = LinkedListNode(prime_num)\n",
        "    if self.head is None:\n",
        "          self.head = node\n",
        "          self.tail = node\n",
        "    else:\n",
        "      self.tail.nextNode = node\n",
        "      self.tail = node\n",
        "\n",
        "  def display(self):\n",
        "    current = self.head\n",
        "    while current is not None:\n",
        "      print(current.prime_num, \"-> \", end = \" \")\n",
        "      current = current.nextNode\n",
        "    print(None)\n",
        "\n",
        "  def show_head(self):\n",
        "    if self.head is not None:\n",
        "      print(f\"Head: {self.head.prime_num}\")\n",
        "    else:\n",
        "      print(\"The list is empty.\")\n",
        "\n",
        "  def show_tail(self):\n",
        "    if self.tail is not None:\n",
        "      print(f\"Tail: {self.tail.prime_num}\")\n",
        "    else:\n",
        "      print(\"The list is empty.\")\n",
        "\n",
        "\n",
        "\n",
        "\n",
        "ll = LinkedList()\n",
        "\n",
        "ll.show_head() #to show the head is empty\n",
        "ll.insert(2)\n",
        "ll.display()\n",
        "\n",
        "ll.insert(3)\n",
        "ll.display()\n",
        "ll.show_tail() #to show the current tail\n",
        "\n",
        "ll.insert(5)\n",
        "ll.display()\n",
        "\n",
        "ll.insert(7)\n",
        "ll.display()\n",
        "\n",
        "ll.insert(11)\n",
        "ll.display()\n",
        "\n",
        "ll.insert(13)\n",
        "ll.display()\n",
        "\n",
        "ll.insert(17)\n",
        "ll.display()\n",
        "\n",
        "ll.insert(19)\n",
        "ll.display()\n",
        "\n",
        "ll.show_head()\n",
        "ll.show_tail()\n",
        ""
      ],
      "metadata": {
        "colab": {
          "base_uri": "https://localhost:8080/"
        },
        "id": "WPkfR1jVNALv",
        "outputId": "bb76507e-791c-40c1-b5d4-f7eb58d7c7b9"
      },
      "execution_count": 24,
      "outputs": [
        {
          "output_type": "stream",
          "name": "stdout",
          "text": [
            "The list is empty.\n",
            "2 ->  None\n",
            "2 ->  3 ->  None\n",
            "Tail: 3\n",
            "2 ->  3 ->  5 ->  None\n",
            "2 ->  3 ->  5 ->  7 ->  None\n",
            "2 ->  3 ->  5 ->  7 ->  11 ->  None\n",
            "2 ->  3 ->  5 ->  7 ->  11 ->  13 ->  None\n",
            "2 ->  3 ->  5 ->  7 ->  11 ->  13 ->  17 ->  None\n",
            "2 ->  3 ->  5 ->  7 ->  11 ->  13 ->  17 ->  19 ->  None\n",
            "Head: 2\n",
            "Tail: 19\n"
          ]
        }
      ]
    },
    {
      "cell_type": "code",
      "source": [],
      "metadata": {
        "id": "WLIkqhmyPE4R"
      },
      "execution_count": null,
      "outputs": []
    }
  ]
}