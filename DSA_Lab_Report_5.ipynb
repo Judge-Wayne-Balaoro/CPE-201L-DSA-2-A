{
  "nbformat": 4,
  "nbformat_minor": 0,
  "metadata": {
    "colab": {
      "provenance": [],
      "authorship_tag": "ABX9TyNVLGMiqF54NdQBC31ecwux",
      "include_colab_link": true
    },
    "kernelspec": {
      "name": "python3",
      "display_name": "Python 3"
    },
    "language_info": {
      "name": "python"
    }
  },
  "cells": [
    {
      "cell_type": "markdown",
      "metadata": {
        "id": "view-in-github",
        "colab_type": "text"
      },
      "source": [
        "<a href=\"https://colab.research.google.com/github/Judge-Wayne-Balaoro/CPE-201L-DSA-2-A/blob/main/DSA_Lab_Report_5.ipynb\" target=\"_parent\"><img src=\"https://colab.research.google.com/assets/colab-badge.svg\" alt=\"Open In Colab\"/></a>"
      ]
    },
    {
      "cell_type": "markdown",
      "source": [
        "Write a Python program to create an array of 10 integers and display the array items. Access individual elements through indexes and compute for the sum."
      ],
      "metadata": {
        "id": "1GWqvz41Jj-A"
      }
    },
    {
      "cell_type": "code",
      "execution_count": 68,
      "metadata": {
        "colab": {
          "base_uri": "https://localhost:8080/"
        },
        "id": "eB4PoKN2JQ41",
        "outputId": "ea11922b-6ba7-4dee-ace7-936a049ec83b"
      },
      "outputs": [
        {
          "output_type": "stream",
          "name": "stdout",
          "text": [
            "Items in the Array:\n",
            "1, 2, 3, 4, 5, 6, 7, 8, 9, 10 \n",
            "\n",
            "The sum of the array is: 55\n"
          ]
        }
      ],
      "source": [
        "import array as arr\n",
        "\n",
        "numbers = arr.array(\"i\", [1,2,3,4,5,6,7,8,9,10])\n",
        "\n",
        "sum = 0\n",
        "index = 0\n",
        "\n",
        "while index < len(numbers):\n",
        "  sum += numbers[index]\n",
        "  index += 1\n",
        "\n",
        "list_numbers = numbers.tolist()\n",
        "items = []\n",
        "\n",
        "print(f\"Items in the Array:\")\n",
        "for arritem in list_numbers:\n",
        "  if arritem == len(list_numbers):\n",
        "    print(arritem, end = \" \")\n",
        "  else:\n",
        "    print(arritem, end = \", \")\n",
        "\n",
        "print(f\"\\n\\nThe sum of the array is: {sum}\")\n"
      ]
    },
    {
      "cell_type": "markdown",
      "source": [
        "Write a Python program to append a new item to the end of the array. Original array: numbers = [1, 2, 3, 4, 5, 6, 7, 8, 9, 10]"
      ],
      "metadata": {
        "id": "MHAxx_5iV_6-"
      }
    },
    {
      "cell_type": "code",
      "source": [
        "import array as arr\n",
        "import copy\n",
        "\n",
        "numbers = arr.array(\"i\", [1,2,3,4,5,6,7,8,9,10])\n",
        "new_num = copy.copy(numbers)\n",
        "new_num.append(11)\n",
        "\n",
        "print(f\"Original Array: {numbers.tolist()}\")\n",
        "print(f\"\\nNew Array: {new_num.tolist()}\")\n",
        "\n"
      ],
      "metadata": {
        "colab": {
          "base_uri": "https://localhost:8080/"
        },
        "id": "sYjvwPjZWAs-",
        "outputId": "e75a34da-006a-401c-941e-d55022955a83"
      },
      "execution_count": 88,
      "outputs": [
        {
          "output_type": "stream",
          "name": "stdout",
          "text": [
            "Original Array: [1, 2, 3, 4, 5, 6, 7, 8, 9, 10]\n",
            "\n",
            "New Array: [1, 2, 3, 4, 5, 6, 7, 8, 9, 10, 11]\n"
          ]
        }
      ]
    },
    {
      "cell_type": "markdown",
      "source": [
        "Write a Python program to insert a new item before the second element in an existing array.\n",
        "\n",
        "\n",
        "Original array: numbers = [1, 2, 3, 4, 5, 6, 7, 8, 9, 10]"
      ],
      "metadata": {
        "id": "g9fXqJ_ZX_6-"
      }
    },
    {
      "cell_type": "code",
      "source": [
        "import array as arr\n",
        "import copy\n",
        "\n",
        "numbers = arr.array(\"i\", [1,2,3,4,5,6,7,8,9,10])\n",
        "new_num = copy.copy(numbers)\n",
        "new_num.insert(1,100)\n",
        "\n",
        "print(f\"Original Array: {numbers.tolist()}\")\n",
        "print(f\"\\nNew Array: {new_num.tolist()}\")"
      ],
      "metadata": {
        "colab": {
          "base_uri": "https://localhost:8080/"
        },
        "id": "BLIO4xVLYF0G",
        "outputId": "ab7f929f-18b1-4527-8bb9-25b801c61e96"
      },
      "execution_count": 89,
      "outputs": [
        {
          "output_type": "stream",
          "name": "stdout",
          "text": [
            "Original Array: [1, 2, 3, 4, 5, 6, 7, 8, 9, 10]\n",
            "\n",
            "New Array: [1, 100, 2, 3, 4, 5, 6, 7, 8, 9, 10]\n"
          ]
        }
      ]
    },
    {
      "cell_type": "markdown",
      "source": [
        "Write a Python program to reverse the order of the items in the array. Original array: numbers = [5, 4, 3, 2, 1]"
      ],
      "metadata": {
        "id": "yWOl6lz2YjnW"
      }
    },
    {
      "cell_type": "code",
      "source": [
        "import array as arr\n",
        "import copy\n",
        "\n",
        "numbers = arr.array(\"i\", [5,4,3,2,1])\n",
        "new_num = copy.copy(numbers)\n",
        "new_num.reverse()\n",
        "\n",
        "print(f\"Original Array: {numbers.tolist()}\")\n",
        "print(f\"\\nNew Array: {new_num.tolist()}\")"
      ],
      "metadata": {
        "colab": {
          "base_uri": "https://localhost:8080/"
        },
        "id": "eXJFobaQY6Tu",
        "outputId": "91fd05a9-4606-4cd6-f4c8-d65b03406eff"
      },
      "execution_count": 90,
      "outputs": [
        {
          "output_type": "stream",
          "name": "stdout",
          "text": [
            "Original Array: [5, 4, 3, 2, 1]\n",
            "\n",
            "New Array: [1, 2, 3, 4, 5]\n"
          ]
        }
      ]
    },
    {
      "cell_type": "markdown",
      "source": [
        "Write a Python program to get the length of the array. Original array: numbers = [5, 4, 3, 2, 1]"
      ],
      "metadata": {
        "id": "0UaxLYeOZJoF"
      }
    },
    {
      "cell_type": "code",
      "source": [
        "import array as arr\n",
        "\n",
        "numbers = arr.array(\"i\", [5,4,3,2,1])\n",
        "\n",
        "print(f\"Original array: {numbers.tolist()}\")\n",
        "print(f\"The length of the array is: {len(numbers)}\")"
      ],
      "metadata": {
        "colab": {
          "base_uri": "https://localhost:8080/"
        },
        "id": "vqg23XMBZLj1",
        "outputId": "fff45a39-d6fd-43ec-be17-bb1e4136b8e4"
      },
      "execution_count": 95,
      "outputs": [
        {
          "output_type": "stream",
          "name": "stdout",
          "text": [
            "Original array: [5, 4, 3, 2, 1]\n",
            "The length of the array is: 5\n"
          ]
        }
      ]
    }
  ]
}