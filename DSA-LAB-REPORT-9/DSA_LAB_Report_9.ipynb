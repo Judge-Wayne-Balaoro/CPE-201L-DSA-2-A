{
  "nbformat": 4,
  "nbformat_minor": 0,
  "metadata": {
    "colab": {
      "provenance": [],
      "authorship_tag": "ABX9TyPVXOg4lQY06FycciTOlW+E",
      "include_colab_link": true
    },
    "kernelspec": {
      "name": "python3",
      "display_name": "Python 3"
    },
    "language_info": {
      "name": "python"
    }
  },
  "cells": [
    {
      "cell_type": "markdown",
      "metadata": {
        "id": "view-in-github",
        "colab_type": "text"
      },
      "source": [
        "<a href=\"https://colab.research.google.com/github/Judge-Wayne-Balaoro/CPE-201L-DSA-2-A/blob/main/DSA-LAB-REPORT-9/DSA_LAB_Report_9.ipynb\" target=\"_parent\"><img src=\"https://colab.research.google.com/assets/colab-badge.svg\" alt=\"Open In Colab\"/></a>"
      ]
    },
    {
      "cell_type": "markdown",
      "source": [
        "Instruction: Type the python codes below in your Colab. Reconstruct them by implementing Queues (FIFO) algorithm. Hint: You may use Array or Linked List\n"
      ],
      "metadata": {
        "id": "zMnH9N0li1lu"
      }
    },
    {
      "cell_type": "code",
      "execution_count": null,
      "metadata": {
        "colab": {
          "base_uri": "https://localhost:8080/"
        },
        "id": "pykCsfRuirpq",
        "outputId": "80116fc1-f915-4a3f-b813-04955e94927b"
      },
      "outputs": [
        {
          "output_type": "stream",
          "name": "stdout",
          "text": [
            "Pushed Element: 1\n",
            "Pushed Element: 2\n",
            "Pushed Element: 3\n",
            "Pushed Element: 4\n",
            "Pushed Element: 5\n",
            "The elements in the stack are:['1', '2', '3', '4', '5']\n"
          ]
        }
      ],
      "source": [
        "# Stack implementation in python\n",
        "\n",
        "\n",
        "# Creating a stack\n",
        "def create_stack():\n",
        "    stack = []\n",
        "    return stack\n",
        "\n",
        "\n",
        "\n",
        "\n",
        "# Creating an empty stack\n",
        "def is_empty(stack):\n",
        "    return len(stack) == 0\n",
        "\n",
        "\n",
        "# Adding items into the stack\n",
        "def push(stack, item):\n",
        "    stack.append(item)\n",
        "    print(\"Pushed Element: \" + item)\n",
        "\n",
        "\n",
        "# Removing an element from the stack\n",
        "def pop(stack):\n",
        "    if (is_empty(stack)):\n",
        "        return \"The stack is empty\"\n",
        "    return stack.pop()\n",
        "\n",
        "\n",
        "stack = create_stack()\n",
        "push(stack, str(1))\n",
        "push(stack, str(2))\n",
        "push(stack, str(3))\n",
        "push(stack, str(4))\n",
        "push(stack, str(5))\n",
        "\n",
        "\n",
        "print(\"The elements in the stack are:\"+ str(stack))\n"
      ]
    },
    {
      "cell_type": "code",
      "source": [
        "class Queue:\n",
        "    def __init__(self):\n",
        "        self.queue = []\n",
        "\n",
        "    def enqueue(self, dataval):\n",
        "        if dataval not in self.queue:\n",
        "            self.queue.append(dataval)\n",
        "            return True\n",
        "        else:\n",
        "            return False\n",
        "\n",
        "    def dequeue(self):\n",
        "        if len(self.queue) <= 0:\n",
        "            return \"Queue is empty\"\n",
        "        else:\n",
        "            return self.queue.pop(0)\n",
        "\n",
        "    def empty_stack(self):\n",
        "        while self.queue:\n",
        "          self.queue.pop()\n",
        "        print(\"The Queue is empty.\")\n",
        "\n",
        "\n",
        "AQueue = Queue()\n",
        "AQueue.enqueue(\"1\")\n",
        "AQueue.enqueue(\"2\")\n",
        "AQueue.enqueue(\"3\")\n",
        "AQueue.enqueue(\"4\")\n",
        "AQueue.enqueue(\"5\")\n",
        "\n",
        "print(\"The elements in the Queue are:\")\n",
        "print(AQueue.queue)\n",
        "\n",
        "AQueue.dequeue()\n",
        "print(\"After removing an element from the Queue:\")\n",
        "print(AQueue.queue)\n",
        "\n",
        "AQueue.empty_stack()"
      ],
      "metadata": {
        "colab": {
          "base_uri": "https://localhost:8080/"
        },
        "id": "aa9KF4Dci7TG",
        "outputId": "265bd35d-445a-42f9-9900-9c52c855fddd"
      },
      "execution_count": 1,
      "outputs": [
        {
          "output_type": "stream",
          "name": "stdout",
          "text": [
            "The elements in the Queue are:\n",
            "['1', '2', '3', '4', '5']\n",
            "After removing an element from the Queue:\n",
            "['2', '3', '4', '5']\n",
            "The Queue is empty.\n"
          ]
        }
      ]
    }
  ]
}