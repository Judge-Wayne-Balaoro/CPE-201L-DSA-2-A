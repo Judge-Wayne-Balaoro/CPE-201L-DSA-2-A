{
  "nbformat": 4,
  "nbformat_minor": 0,
  "metadata": {
    "colab": {
      "provenance": [],
      "authorship_tag": "ABX9TyMvjoasn5GPb/F8bbvkxXdD",
      "include_colab_link": true
    },
    "kernelspec": {
      "name": "python3",
      "display_name": "Python 3"
    },
    "language_info": {
      "name": "python"
    }
  },
  "cells": [
    {
      "cell_type": "markdown",
      "metadata": {
        "id": "view-in-github",
        "colab_type": "text"
      },
      "source": [
        "<a href=\"https://colab.research.google.com/github/Judge-Wayne-Balaoro/CPE-201L-DSA-2-A/blob/main/Midterm_TestSkill.ipynb\" target=\"_parent\"><img src=\"https://colab.research.google.com/assets/colab-badge.svg\" alt=\"Open In Colab\"/></a>"
      ]
    },
    {
      "cell_type": "markdown",
      "source": [
        "Implement a singly-linked list of odd integers from 1 to 30 and do the following operations:\n",
        "a.) Display all data\n",
        "b.) Append a Node\n",
        "c.) Delete a Node"
      ],
      "metadata": {
        "id": "7O6q3WONA4jr"
      }
    },
    {
      "cell_type": "code",
      "execution_count": 23,
      "metadata": {
        "colab": {
          "base_uri": "https://localhost:8080/"
        },
        "id": "WGBBE5Y-Afjm",
        "outputId": "60a14d83-1734-4a5e-de2d-6fe075396fa6"
      },
      "outputs": [
        {
          "output_type": "stream",
          "name": "stdout",
          "text": [
            "1 -> 3 -> 5 -> 7 -> 9 -> 11 -> 13 -> 15 -> 17 -> 19 -> 21 -> 23 -> 25 -> 27 -> 29 -> None\n",
            "\n",
            "After Deleting a Node with value 1:\n",
            "3 -> 5 -> 7 -> 9 -> 11 -> 13 -> 15 -> 17 -> 19 -> 21 -> 23 -> 25 -> 27 -> 29 -> None\n"
          ]
        }
      ],
      "source": [
        "class LinkedListNode:\n",
        "    def __init__(self, odd, nextNode = None):\n",
        "        self.odd = odd\n",
        "        self.nextNode = nextNode\n",
        "\n",
        "class LinkedList:\n",
        "    def __init__(self, head = None, tail = None):\n",
        "        self.head = head\n",
        "        self.tail = tail\n",
        "\n",
        "#method for b\n",
        "    def append(self, odd):\n",
        "        node  = LinkedListNode(odd)\n",
        "        if self.head is None:\n",
        "            self.head = node\n",
        "            self.tail = node\n",
        "        else:\n",
        "            self.tail.nextNode = node\n",
        "            self.tail = node\n",
        "\n",
        "#method for a\n",
        "    def display(self):\n",
        "        current = self.head\n",
        "        while current is not None:\n",
        "            print(current.odd, \"->\", end = \" \")\n",
        "            current = current.nextNode\n",
        "        print(None)\n",
        "\n",
        "#method for c\n",
        "    def delete(self, odd):\n",
        "        current = self.head\n",
        "        previous = None\n",
        "        while current is not None:\n",
        "            if current.odd == odd:\n",
        "                if previous is not None:\n",
        "                    previous.nextNode = current.nextNode\n",
        "                else:\n",
        "                    self.head = current.nextNode\n",
        "\n",
        "                if current == self.tail:\n",
        "                    self.tail = previous\n",
        "                return\n",
        "            previous = current\n",
        "            current = current.nextNode\n",
        "\n",
        "ll = LinkedList()\n",
        "#b.) Append a node\n",
        "ll.append(1)\n",
        "ll.append(3)\n",
        "ll.append(5)\n",
        "ll.append(7)\n",
        "ll.append(9)\n",
        "ll.append(11)\n",
        "ll.append(13)\n",
        "ll.append(15)\n",
        "ll.append(17)\n",
        "ll.append(19)\n",
        "ll.append(21)\n",
        "ll.append(23)\n",
        "ll.append(25)\n",
        "ll.append(27)\n",
        "ll.append(29)\n",
        "\n",
        "#a.) Display all data\n",
        "ll.display()\n",
        "\n",
        "\n",
        "#c.) Delete a node\n",
        "print(\"\\nAfter Deleting a Node with value 1:\")\n",
        "ll.delete(1)\n",
        "\n",
        "ll.display()\n"
      ]
    }
  ]
}